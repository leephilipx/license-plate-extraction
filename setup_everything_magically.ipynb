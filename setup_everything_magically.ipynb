{
 "cells": [
  {
   "cell_type": "code",
   "execution_count": null,
   "metadata": {},
   "outputs": [],
   "source": [
    "import boto3\n",
    "\n",
    "s3 = boto3.client('s3')\n",
    "s3.download_file('aws-carro-hackathon', 'pricing/pricing.tar', 'pricing.tar')\n",
    "s3.download_file('aws-carro-hackathon', 'cv/cv.tar', 'cv.tar')\n",
    "s3.download_file('aws-carro-hackathon', 'acoustic/acoustic.tar', 'acoustic.tar')"
   ]
  },
  {
   "cell_type": "code",
   "execution_count": null,
   "metadata": {},
   "outputs": [],
   "source": [
    "!echo \"Running automated scripts, this will take about 3-4 mins ...\"\n",
    "\n",
    "!git clone https://github.com/aws-samples/sagemaker-101-workshop\n",
    "!git clone https://github.com/TrustyCars/aws-carro-hackathon-workshop\n",
    "!mkdir datasets\n",
    "\n",
    "!tar -xf acoustic.tar --no-same-owner\n",
    "!tar -xf cv.tar --no-same-owner\n",
    "!tar -xf pricing.tar --no-same-owner\n",
    "\n",
    "!mv ./acoustic ./datasets/\n",
    "!mv ./cv ./datasets/\n",
    "!mv ./pricing ./datasets/\n",
    "\n",
    "!rm -r *.tar"
   ]
  },
  {
   "cell_type": "code",
   "execution_count": null,
   "metadata": {},
   "outputs": [],
   "source": []
  }
 ],
 "metadata": {
  "instance_type": "ml.t3.medium",
  "kernelspec": {
   "display_name": "Python 3",
   "language": "python",
   "name": "python3"
  },
  "language_info": {
   "codemirror_mode": {
    "name": "ipython",
    "version": 3
   },
   "file_extension": ".py",
   "mimetype": "text/x-python",
   "name": "python",
   "nbconvert_exporter": "python",
   "pygments_lexer": "ipython3"
  },
  "vscode": {
   "interpreter": {
    "hash": "69d49a09ba400833a2881d11b97d698fcf1d85f7e394e3cad808f38b08f54c79"
   }
  }
 },
 "nbformat": 4,
 "nbformat_minor": 4
}
